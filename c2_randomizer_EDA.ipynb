{
  "nbformat": 4,
  "nbformat_minor": 0,
  "metadata": {
    "colab": {
      "name": "c2 randomizer EDA.ipynb",
      "provenance": [],
      "collapsed_sections": [],
      "authorship_tag": "ABX9TyMHCGnEqGv+FpwzzYiZhwdM",
      "include_colab_link": true
    },
    "kernelspec": {
      "display_name": "Python 3",
      "name": "python3"
    }
  },
  "cells": [
    {
      "cell_type": "markdown",
      "metadata": {
        "id": "view-in-github",
        "colab_type": "text"
      },
      "source": [
        "<a href=\"https://colab.research.google.com/github/jun-bun/c2randomizer/blob/main/c2_randomizer_EDA.ipynb\" target=\"_parent\"><img src=\"https://colab.research.google.com/assets/colab-badge.svg\" alt=\"Open In Colab\"/></a>"
      ]
    },
    {
      "cell_type": "code",
      "metadata": {
        "id": "_2YADsoaErtG"
      },
      "source": [
        "import pandas as pd\n",
        "import seaborn as sb\n",
        "import numpy as np\n",
        "import re\n"
      ],
      "execution_count": null,
      "outputs": []
    },
    {
      "cell_type": "code",
      "metadata": {
        "id": "SoWA5hg1Fyuo",
        "colab": {
          "base_uri": "https://localhost:8080/"
        },
        "outputId": "55c1740a-58fa-43c0-eb29-7c6e8506a938"
      },
      "source": [
        "#Get Sequence of 9,830,400 pieces from the original randomizer\n",
        "!wget https://github.com/jun-bun/c2randomizer/raw/main/Cultris2sequence.zip\n",
        "!unzip Cultris2sequence.zip\n"
      ],
      "execution_count": null,
      "outputs": [
        {
          "output_type": "stream",
          "text": [
            "--2021-03-13 16:46:09--  https://github.com/jun-bun/c2randomizer/raw/main/Cultris2sequence.zip\n",
            "Resolving github.com (github.com)... 52.192.72.89\n",
            "Connecting to github.com (github.com)|52.192.72.89|:443... connected.\n",
            "HTTP request sent, awaiting response... 302 Found\n",
            "Location: https://raw.githubusercontent.com/jun-bun/c2randomizer/main/Cultris2sequence.zip [following]\n",
            "--2021-03-13 16:46:10--  https://raw.githubusercontent.com/jun-bun/c2randomizer/main/Cultris2sequence.zip\n",
            "Resolving raw.githubusercontent.com (raw.githubusercontent.com)... 185.199.111.133, 185.199.109.133, 185.199.110.133, ...\n",
            "Connecting to raw.githubusercontent.com (raw.githubusercontent.com)|185.199.111.133|:443... connected.\n",
            "HTTP request sent, awaiting response... 200 OK\n",
            "Length: 4092046 (3.9M) [application/zip]\n",
            "Saving to: ‘Cultris2sequence.zip’\n",
            "\n",
            "Cultris2sequence.zi 100%[===================>]   3.90M  --.-KB/s    in 0.09s   \n",
            "\n",
            "2021-03-13 16:46:11 (43.0 MB/s) - ‘Cultris2sequence.zip’ saved [4092046/4092046]\n",
            "\n",
            "Archive:  Cultris2sequence.zip\n",
            "  inflating: pieces.txt              \n"
          ],
          "name": "stdout"
        }
      ]
    },
    {
      "cell_type": "code",
      "metadata": {
        "id": "R4kT0OgnF01E"
      },
      "source": [
        "FILENAME = 'pieces.txt'\n",
        "with open(FILENAME, 'r') as file:\n",
        "  #sequence = file.read().splitlines()\n",
        "  sequence = \"\".join(filter(None, re.split(r'\\W|\\n', file.read())))\n",
        "data = pd.Series(list(sequence), dtype='string')"
      ],
      "execution_count": null,
      "outputs": []
    },
    {
      "cell_type": "code",
      "metadata": {
        "id": "KizFm__6HOgc",
        "colab": {
          "base_uri": "https://localhost:8080/"
        },
        "outputId": "188387f1-778d-45f7-866a-0fcc3667b7a0"
      },
      "source": [
        "data"
      ],
      "execution_count": null,
      "outputs": [
        {
          "output_type": "execute_result",
          "data": {
            "text/plain": [
              "0          L\n",
              "1          Z\n",
              "2          J\n",
              "3          L\n",
              "4          I\n",
              "          ..\n",
              "9830395    O\n",
              "9830396    I\n",
              "9830397    T\n",
              "9830398    L\n",
              "9830399    O\n",
              "Length: 9830400, dtype: string"
            ]
          },
          "metadata": {
            "tags": []
          },
          "execution_count": 135
        }
      ]
    },
    {
      "cell_type": "code",
      "metadata": {
        "id": "G5n1TK6O2smc"
      },
      "source": [
        "https://github.com/jun-bun/c2randomizer/raw/main/data/memoryless_sequence.txt\n"
      ],
      "execution_count": null,
      "outputs": []
    },
    {
      "cell_type": "code",
      "metadata": {
        "colab": {
          "base_uri": "https://localhost:8080/",
          "height": 276
        },
        "id": "UttRsVYmllJ9",
        "outputId": "a0c80235-e65e-4d73-ca80-1d0ac4e6fee3"
      },
      "source": [
        "hist = data.hist(bins=7)"
      ],
      "execution_count": null,
      "outputs": [
        {
          "output_type": "display_data",
          "data": {
            "image/png": "[encoded data removed]",
            "text/plain": [
              "<Figure size 432x288 with 1 Axes>"
            ]
          },
          "metadata": {
            "tags": [],
            "needs_background": "light"
          }
        }
      ]
    },
    {
      "cell_type": "code",
      "metadata": {
        "colab": {
          "base_uri": "https://localhost:8080/"
        },
        "id": "m3XRPQxj6i5d",
        "outputId": "8d1dee8a-9505-4dc1-c26d-1a4c03ba74d8"
      },
      "source": [
        "data.value_counts()"
      ],
      "execution_count": null,
      "outputs": [
        {
          "output_type": "execute_result",
          "data": {
            "text/plain": [
              "I    1405674\n",
              "T    1404879\n",
              "J    1404452\n",
              "O    1404448\n",
              "S    1404052\n",
              "Z    1403572\n",
              "L    1403323\n",
              "dtype: Int64"
            ]
          },
          "metadata": {
            "tags": []
          },
          "execution_count": 137
        }
      ]
    },
    {
      "cell_type": "code",
      "metadata": {
        "id": "FSC5YyB763Bc"
      },
      "source": [
        ""
      ],
      "execution_count": null,
      "outputs": []
    }
  ]
}